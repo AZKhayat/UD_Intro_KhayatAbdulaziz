{
 "cells": [
  {
   "cell_type": "code",
   "execution_count": null,
   "metadata": {},
   "outputs": [],
   "source": []
  },
  {
   "cell_type": "code",
   "execution_count": 24,
   "metadata": {},
   "outputs": [
    {
     "name": "stdout",
     "output_type": "stream",
     "text": [
      "True\n",
      "<selenium.webdriver.remote.webelement.WebElement (session=\"62acaea2c8637aa6f96c1968e7007d3b\", element=\"74D5E171A20FCB11B311A8C6D90312FB_element_54\")>\n",
      "Abu Dhabi\n",
      "<selenium.webdriver.remote.webelement.WebElement (session=\"62acaea2c8637aa6f96c1968e7007d3b\", element=\"74D5E171A20FCB11B311A8C6D90312FB_element_64\")>\n",
      "Auckland\n",
      "<selenium.webdriver.remote.webelement.WebElement (session=\"62acaea2c8637aa6f96c1968e7007d3b\", element=\"74D5E171A20FCB11B311A8C6D90312FB_element_72\")>\n",
      "Berlin\n",
      "<selenium.webdriver.remote.webelement.WebElement (session=\"62acaea2c8637aa6f96c1968e7007d3b\", element=\"74D5E171A20FCB11B311A8C6D90312FB_element_73\")>\n",
      "Birmingham\n",
      "<selenium.webdriver.remote.webelement.WebElement (session=\"62acaea2c8637aa6f96c1968e7007d3b\", element=\"74D5E171A20FCB11B311A8C6D90312FB_element_76\")>\n",
      "Boston\n",
      "<selenium.webdriver.remote.webelement.WebElement (session=\"62acaea2c8637aa6f96c1968e7007d3b\", element=\"74D5E171A20FCB11B311A8C6D90312FB_element_77\")>\n",
      "Brisbane\n",
      "<selenium.webdriver.remote.webelement.WebElement (session=\"62acaea2c8637aa6f96c1968e7007d3b\", element=\"74D5E171A20FCB11B311A8C6D90312FB_element_78\")>\n",
      "Bristol\n"
     ]
    },
    {
     "ename": "ElementClickInterceptedException",
     "evalue": "Message: element click intercepted: Element <td id=\"compareCity_...\" class=\"cityNode dojoDndItem actionItem selectable cityFirstLetter-B actionItemBusy\">Bristol</td> is not clickable at point (1093, 110). Other element would receive the click: <div class=\"dijitDialogUnderlay esriSignInDialog_underlay\" tabindex=\"-1\" data-dojo-attach-point=\"node\" id=\"dijit_Dialog_0_underlay\" style=\"width: 1536px; height: 694px;\"></div>\n  (Session info: chrome=117.0.5938.149)\nStacktrace:\n\tGetHandleVerifier [0x00007FF7F27F7D12+55474]\n\t(No symbol) [0x00007FF7F27677C2]\n\t(No symbol) [0x00007FF7F261E0EB]\n\t(No symbol) [0x00007FF7F2664E7B]\n\t(No symbol) [0x00007FF7F2663249]\n\t(No symbol) [0x00007FF7F2661018]\n\t(No symbol) [0x00007FF7F26600D3]\n\t(No symbol) [0x00007FF7F2655DCF]\n\t(No symbol) [0x00007FF7F267F15A]\n\t(No symbol) [0x00007FF7F26556E6]\n\t(No symbol) [0x00007FF7F267F370]\n\t(No symbol) [0x00007FF7F2697EF2]\n\t(No symbol) [0x00007FF7F267EF33]\n\t(No symbol) [0x00007FF7F2653D41]\n\t(No symbol) [0x00007FF7F2654F84]\n\tGetHandleVerifier [0x00007FF7F2B5B762+3609346]\n\tGetHandleVerifier [0x00007FF7F2BB1A80+3962400]\n\tGetHandleVerifier [0x00007FF7F2BA9F0F+3930799]\n\tGetHandleVerifier [0x00007FF7F2893CA6+694342]\n\t(No symbol) [0x00007FF7F2772218]\n\t(No symbol) [0x00007FF7F276E484]\n\t(No symbol) [0x00007FF7F276E5B2]\n\t(No symbol) [0x00007FF7F275EE13]\n\tBaseThreadInitThunk [0x00007FFE5FA555A0+16]\n\tRtlUserThreadStart [0x00007FFE60AA485B+43]\n",
     "output_type": "error",
     "traceback": [
      "\u001b[1;31m---------------------------------------------------------------------------\u001b[0m",
      "\u001b[1;31mElementClickInterceptedException\u001b[0m          Traceback (most recent call last)",
      "\u001b[1;32md:\\Bartlett\\Term 1\\UD_IntroProject_2023\\2_DataScraping\\2_DataScraping_02.ipynb Cell 2\u001b[0m line \u001b[0;36m5\n\u001b[0;32m     <a href='vscode-notebook-cell:/d%3A/Bartlett/Term%201/UD_IntroProject_2023/2_DataScraping/2_DataScraping_02.ipynb#W1sZmlsZQ%3D%3D?line=48'>49</a>\u001b[0m \u001b[39mprint\u001b[39m(x[(\u001b[39m9\u001b[39m\u001b[39m*\u001b[39mi)\u001b[39m+\u001b[39mj])\n\u001b[0;32m     <a href='vscode-notebook-cell:/d%3A/Bartlett/Term%201/UD_IntroProject_2023/2_DataScraping/2_DataScraping_02.ipynb#W1sZmlsZQ%3D%3D?line=49'>50</a>\u001b[0m \u001b[39mprint\u001b[39m(x[(\u001b[39m9\u001b[39m\u001b[39m*\u001b[39mi)\u001b[39m+\u001b[39mj]\u001b[39m.\u001b[39mtext)\n\u001b[1;32m---> <a href='vscode-notebook-cell:/d%3A/Bartlett/Term%201/UD_IntroProject_2023/2_DataScraping/2_DataScraping_02.ipynb#W1sZmlsZQ%3D%3D?line=50'>51</a>\u001b[0m x[(\u001b[39m9\u001b[39;49m\u001b[39m*\u001b[39;49mi)\u001b[39m+\u001b[39;49mj]\u001b[39m.\u001b[39;49mclick()\n\u001b[0;32m     <a href='vscode-notebook-cell:/d%3A/Bartlett/Term%201/UD_IntroProject_2023/2_DataScraping/2_DataScraping_02.ipynb#W1sZmlsZQ%3D%3D?line=51'>52</a>\u001b[0m sleep(\u001b[39m4\u001b[39m)\n\u001b[0;32m     <a href='vscode-notebook-cell:/d%3A/Bartlett/Term%201/UD_IntroProject_2023/2_DataScraping/2_DataScraping_02.ipynb#W1sZmlsZQ%3D%3D?line=52'>53</a>\u001b[0m driver\u001b[39m.\u001b[39mfind_element(\u001b[39m\"\u001b[39m\u001b[39mxpath\u001b[39m\u001b[39m\"\u001b[39m, \u001b[39mf\u001b[39m\u001b[39m'\u001b[39m\u001b[39m//*[@id=\u001b[39m\u001b[39m\"\u001b[39m\u001b[39mdijit_TooltipDialog_\u001b[39m\u001b[39m{\u001b[39;00mcount\u001b[39m}\u001b[39;00m\u001b[39m\"\u001b[39m\u001b[39m]/div[1]/div/div/table/tr[2]/td[1]\u001b[39m\u001b[39m'\u001b[39m)\u001b[39m.\u001b[39mclick()\n",
      "File \u001b[1;32mc:\\Users\\Abdulmù\\AppData\\Local\\Programs\\Python\\Python311\\Lib\\site-packages\\selenium\\webdriver\\remote\\webelement.py:93\u001b[0m, in \u001b[0;36mWebElement.click\u001b[1;34m(self)\u001b[0m\n\u001b[0;32m     91\u001b[0m \u001b[39mdef\u001b[39;00m \u001b[39mclick\u001b[39m(\u001b[39mself\u001b[39m) \u001b[39m-\u001b[39m\u001b[39m>\u001b[39m \u001b[39mNone\u001b[39;00m:\n\u001b[0;32m     92\u001b[0m \u001b[39m    \u001b[39m\u001b[39m\"\"\"Clicks the element.\"\"\"\u001b[39;00m\n\u001b[1;32m---> 93\u001b[0m     \u001b[39mself\u001b[39;49m\u001b[39m.\u001b[39;49m_execute(Command\u001b[39m.\u001b[39;49mCLICK_ELEMENT)\n",
      "File \u001b[1;32mc:\\Users\\Abdulmù\\AppData\\Local\\Programs\\Python\\Python311\\Lib\\site-packages\\selenium\\webdriver\\remote\\webelement.py:394\u001b[0m, in \u001b[0;36mWebElement._execute\u001b[1;34m(self, command, params)\u001b[0m\n\u001b[0;32m    392\u001b[0m     params \u001b[39m=\u001b[39m {}\n\u001b[0;32m    393\u001b[0m params[\u001b[39m\"\u001b[39m\u001b[39mid\u001b[39m\u001b[39m\"\u001b[39m] \u001b[39m=\u001b[39m \u001b[39mself\u001b[39m\u001b[39m.\u001b[39m_id\n\u001b[1;32m--> 394\u001b[0m \u001b[39mreturn\u001b[39;00m \u001b[39mself\u001b[39;49m\u001b[39m.\u001b[39;49m_parent\u001b[39m.\u001b[39;49mexecute(command, params)\n",
      "File \u001b[1;32mc:\\Users\\Abdulmù\\AppData\\Local\\Programs\\Python\\Python311\\Lib\\site-packages\\selenium\\webdriver\\remote\\webdriver.py:344\u001b[0m, in \u001b[0;36mWebDriver.execute\u001b[1;34m(self, driver_command, params)\u001b[0m\n\u001b[0;32m    342\u001b[0m response \u001b[39m=\u001b[39m \u001b[39mself\u001b[39m\u001b[39m.\u001b[39mcommand_executor\u001b[39m.\u001b[39mexecute(driver_command, params)\n\u001b[0;32m    343\u001b[0m \u001b[39mif\u001b[39;00m response:\n\u001b[1;32m--> 344\u001b[0m     \u001b[39mself\u001b[39;49m\u001b[39m.\u001b[39;49merror_handler\u001b[39m.\u001b[39;49mcheck_response(response)\n\u001b[0;32m    345\u001b[0m     response[\u001b[39m\"\u001b[39m\u001b[39mvalue\u001b[39m\u001b[39m\"\u001b[39m] \u001b[39m=\u001b[39m \u001b[39mself\u001b[39m\u001b[39m.\u001b[39m_unwrap_value(response\u001b[39m.\u001b[39mget(\u001b[39m\"\u001b[39m\u001b[39mvalue\u001b[39m\u001b[39m\"\u001b[39m, \u001b[39mNone\u001b[39;00m))\n\u001b[0;32m    346\u001b[0m     \u001b[39mreturn\u001b[39;00m response\n",
      "File \u001b[1;32mc:\\Users\\Abdulmù\\AppData\\Local\\Programs\\Python\\Python311\\Lib\\site-packages\\selenium\\webdriver\\remote\\errorhandler.py:229\u001b[0m, in \u001b[0;36mErrorHandler.check_response\u001b[1;34m(self, response)\u001b[0m\n\u001b[0;32m    227\u001b[0m         alert_text \u001b[39m=\u001b[39m value[\u001b[39m\"\u001b[39m\u001b[39malert\u001b[39m\u001b[39m\"\u001b[39m]\u001b[39m.\u001b[39mget(\u001b[39m\"\u001b[39m\u001b[39mtext\u001b[39m\u001b[39m\"\u001b[39m)\n\u001b[0;32m    228\u001b[0m     \u001b[39mraise\u001b[39;00m exception_class(message, screen, stacktrace, alert_text)  \u001b[39m# type: ignore[call-arg]  # mypy is not smart enough here\u001b[39;00m\n\u001b[1;32m--> 229\u001b[0m \u001b[39mraise\u001b[39;00m exception_class(message, screen, stacktrace)\n",
      "\u001b[1;31mElementClickInterceptedException\u001b[0m: Message: element click intercepted: Element <td id=\"compareCity_...\" class=\"cityNode dojoDndItem actionItem selectable cityFirstLetter-B actionItemBusy\">Bristol</td> is not clickable at point (1093, 110). Other element would receive the click: <div class=\"dijitDialogUnderlay esriSignInDialog_underlay\" tabindex=\"-1\" data-dojo-attach-point=\"node\" id=\"dijit_Dialog_0_underlay\" style=\"width: 1536px; height: 694px;\"></div>\n  (Session info: chrome=117.0.5938.149)\nStacktrace:\n\tGetHandleVerifier [0x00007FF7F27F7D12+55474]\n\t(No symbol) [0x00007FF7F27677C2]\n\t(No symbol) [0x00007FF7F261E0EB]\n\t(No symbol) [0x00007FF7F2664E7B]\n\t(No symbol) [0x00007FF7F2663249]\n\t(No symbol) [0x00007FF7F2661018]\n\t(No symbol) [0x00007FF7F26600D3]\n\t(No symbol) [0x00007FF7F2655DCF]\n\t(No symbol) [0x00007FF7F267F15A]\n\t(No symbol) [0x00007FF7F26556E6]\n\t(No symbol) [0x00007FF7F267F370]\n\t(No symbol) [0x00007FF7F2697EF2]\n\t(No symbol) [0x00007FF7F267EF33]\n\t(No symbol) [0x00007FF7F2653D41]\n\t(No symbol) [0x00007FF7F2654F84]\n\tGetHandleVerifier [0x00007FF7F2B5B762+3609346]\n\tGetHandleVerifier [0x00007FF7F2BB1A80+3962400]\n\tGetHandleVerifier [0x00007FF7F2BA9F0F+3930799]\n\tGetHandleVerifier [0x00007FF7F2893CA6+694342]\n\t(No symbol) [0x00007FF7F2772218]\n\t(No symbol) [0x00007FF7F276E484]\n\t(No symbol) [0x00007FF7F276E5B2]\n\t(No symbol) [0x00007FF7F275EE13]\n\tBaseThreadInitThunk [0x00007FFE5FA555A0+16]\n\tRtlUserThreadStart [0x00007FFE60AA485B+43]\n"
     ]
    }
   ],
   "source": [
    "import selenium \n",
    "from selenium import webdriver\n",
    "from selenium.webdriver.common.by import By\n",
    "from selenium.webdriver.common.keys import Keys\n",
    "from selenium.webdriver.support.ui import Select\n",
    "from selenium.webdriver.support.ui import WebDriverWait\n",
    "from selenium.webdriver.support import expected_conditions as EC\n",
    "from selenium.webdriver.common.by import By\n",
    "from time import sleep\n",
    "import re\n",
    "\n",
    "url= \"https://www.urbanobservatory.org/\"\n",
    "driver = webdriver.Chrome()\n",
    "driver.maximize_window()\n",
    "driver.get(url)\n",
    "\n",
    "sleep(5)\n",
    "\n",
    "driver.find_element(\"xpath\", '/html/body/div[1]/div/div/div/ul/li[2]/a').click()\n",
    "\n",
    "url=WebDriverWait(driver, 20).until(EC.presence_of_element_located((\"css selector\", \"#app > div > section > div.header > div > div.grid-20.omega > p > a\"))).get_attribute('href')\n",
    "driver.get(url)\n",
    "\n",
    "x=WebDriverWait(driver, 20).until(EC.text_to_be_present_in_element((\"xpath\", '//*[@id=\"dijit_form_Button_0_label\"]'),'Start Comparing'))\n",
    "print(x)\n",
    "\n",
    "driver.find_element(\"xpath\", '//*[@id=\"dijit_form_Button_0_label\"]').click()\n",
    "\n",
    "driver.find_element(\"xpath\", '//*[@id=\"leftTitlePane\"]').click()\n",
    "\n",
    "sleep(2)\n",
    "\n",
    "WebDriverWait(driver, 20).until(EC.presence_of_element_located((\"xpath\", '//*[@id=\"themeLabel_People_Housing Density\"]'))).click()\n",
    "\n",
    "sleep(10)\n",
    "\n",
    "driver.find_element(\"xpath\", '//*[@id=\"topTitlePane\"]').click()\n",
    "x=driver.find_element(\"xpath\", '//*[@id=\"cityList\"]').find_elements(\"tag name\", 'td')\n",
    "x\n",
    "books_list = []\n",
    "aaa_list = []\n",
    "Black_list = [\"London\",\"Brisbane\"]\n",
    "sleep(3)\n",
    "count=0\n",
    "for i in range(0, 19):\n",
    "    for j in range(0, 9):\n",
    "        aaa_list.append(x[(9*i)+j])\n",
    "        if \"selectable\" in x[(9*i)+j].get_attribute(\"class\"):\n",
    "            books_list.append(x[(9*i)+j])\n",
    "            print(x[(9*i)+j])\n",
    "            print(x[(9*i)+j].text)\n",
    "            if(x[(9*i)+j].text in Black_list):\n",
    "                continue\n",
    "            x[(9*i)+j].click()\n",
    "            sleep(4)\n",
    "            driver.find_element(\"xpath\", f'//*[@id=\"dijit_TooltipDialog_{count}\"]/div[1]/div/div/table/tr[2]/td[1]').click()\n",
    "            sleep(8)\n",
    "            name=driver.find_element(\"id\", \"city\"+str(1)).text\n",
    "            driver.find_element(\"xpath\", f'//*[@id=\"map{1}\"]').screenshot(f\"{name}.png\")\n",
    "            count+=1\n",
    "    sleep(3)\n",
    "    driver.find_element(\"xpath\", '//*[@id=\"scrollRightPane\"]').click()\n",
    "    sleep(5)\n",
    "  \n"
   ]
  },
  {
   "cell_type": "code",
   "execution_count": 16,
   "metadata": {},
   "outputs": [
    {
     "name": "stdout",
     "output_type": "stream",
     "text": [
      "167\n"
     ]
    },
    {
     "ename": "NameError",
     "evalue": "name 'aaa_list' is not defined",
     "output_type": "error",
     "traceback": [
      "\u001b[1;31m---------------------------------------------------------------------------\u001b[0m",
      "\u001b[1;31mNameError\u001b[0m                                 Traceback (most recent call last)",
      "\u001b[1;32md:\\Bartlett\\Term 1\\UD_IntroProject_2023\\2_DataScraping\\2_DataScraping_02.ipynb Cell 3\u001b[0m line \u001b[0;36m2\n\u001b[0;32m      <a href='vscode-notebook-cell:/d%3A/Bartlett/Term%201/UD_IntroProject_2023/2_DataScraping/2_DataScraping_02.ipynb#W2sZmlsZQ%3D%3D?line=0'>1</a>\u001b[0m \u001b[39mprint\u001b[39m(\u001b[39mlen\u001b[39m(x))\n\u001b[1;32m----> <a href='vscode-notebook-cell:/d%3A/Bartlett/Term%201/UD_IntroProject_2023/2_DataScraping/2_DataScraping_02.ipynb#W2sZmlsZQ%3D%3D?line=1'>2</a>\u001b[0m \u001b[39mprint\u001b[39m(\u001b[39mlen\u001b[39m(aaa_list))\n",
      "\u001b[1;31mNameError\u001b[0m: name 'aaa_list' is not defined"
     ]
    }
   ],
   "source": [
    "print(len(x))\n",
    "print(len(aaa_list))\n"
   ]
  },
  {
   "cell_type": "code",
   "execution_count": null,
   "metadata": {},
   "outputs": [],
   "source": []
  }
 ],
 "metadata": {
  "kernelspec": {
   "display_name": "Python 3",
   "language": "python",
   "name": "python3"
  },
  "language_info": {
   "codemirror_mode": {
    "name": "ipython",
    "version": 3
   },
   "file_extension": ".py",
   "mimetype": "text/x-python",
   "name": "python",
   "nbconvert_exporter": "python",
   "pygments_lexer": "ipython3",
   "version": "3.11.6"
  }
 },
 "nbformat": 4,
 "nbformat_minor": 2
}
