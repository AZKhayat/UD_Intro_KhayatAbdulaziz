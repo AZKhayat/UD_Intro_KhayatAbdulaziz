{
 "cells": [
  {
   "cell_type": "code",
   "execution_count": 1,
   "id": "8495e28a",
   "metadata": {},
   "outputs": [
    {
     "name": "stdout",
     "output_type": "stream",
     "text": [
      "Introduction to Programming\n"
     ]
    }
   ],
   "source": [
    "print (\"Introduction to Programming\")"
   ]
  },
  {
   "cell_type": "code",
   "execution_count": 2,
   "id": "212024d9",
   "metadata": {},
   "outputs": [
    {
     "name": "stdout",
     "output_type": "stream",
     "text": [
      "Abdulaziz Khayat\n",
      "ucbvmmk@ucl.ac.uk\n",
      "23\n"
     ]
    }
   ],
   "source": [
    "myName = \"Abdulaziz Khayat\"\n",
    "myemail = \"ucbvmmk@ucl.ac.uk\"\n",
    "myAge = \"23\"\n",
    "\n",
    "print(myName)\n",
    "print(myemail)\n",
    "print(myAge)"
   ]
  },
  {
   "cell_type": "code",
   "execution_count": 3,
   "id": "76ee51b9",
   "metadata": {},
   "outputs": [
    {
     "name": "stdout",
     "output_type": "stream",
     "text": [
      "0\n",
      "178\n",
      "-21\n",
      "59.95918367346939\n",
      "4337328\n",
      "3833759992447475122176\n"
     ]
    }
   ],
   "source": [
    "print(0)\n",
    "print(178)\n",
    "print(-21)\n",
    "print(2938/49)\n",
    "print(436*9948)\n",
    "print(12**20)"
   ]
  },
  {
   "cell_type": "code",
   "execution_count": 4,
   "id": "78e9ac90",
   "metadata": {},
   "outputs": [
    {
     "name": "stdout",
     "output_type": "stream",
     "text": [
      "-0.34202014332566866\n",
      "-0.1736481776669303\n",
      "0.9999999999999999\n"
     ]
    }
   ],
   "source": [
    "from math import *\n",
    "print(sin(radians(200)))\n",
    "print(cos(radians(100)))\n",
    "print(tan(pi/4))"
   ]
  },
  {
   "cell_type": "code",
   "execution_count": 5,
   "id": "85c55ec0",
   "metadata": {},
   "outputs": [
    {
     "name": "stdout",
     "output_type": "stream",
     "text": [
      "Abdulaziz\n",
      "Khayat\n",
      "Abdulaziz Khayat\n"
     ]
    }
   ],
   "source": [
    "firstName = input()\n",
    "lastName = input()\n",
    "print (firstName,lastName)"
   ]
  },
  {
   "cell_type": "code",
   "execution_count": 6,
   "id": "748ed61e",
   "metadata": {},
   "outputs": [
    {
     "name": "stdout",
     "output_type": "stream",
     "text": [
      "3\n",
      "Positive\n"
     ]
    }
   ],
   "source": [
    "number = int(input())\n",
    "if (number >= 0):\n",
    "    print(\"Positive\")\n",
    "else:\n",
    "    print(\"Negative\")"
   ]
  },
  {
   "cell_type": "code",
   "execution_count": 7,
   "id": "10a80740",
   "metadata": {},
   "outputs": [
    {
     "name": "stdout",
     "output_type": "stream",
     "text": [
      "20\n",
      "Congratulations\n"
     ]
    }
   ],
   "source": [
    "import random\n",
    "\n",
    "num1 = random.randint(1, 20)\n",
    "number = int(input())\n",
    "    \n",
    "while(num1 != number):\n",
    "    number = int(input())\n",
    "print(\"Congratulations\")"
   ]
  },
  {
   "cell_type": "code",
   "execution_count": 14,
   "id": "45875362",
   "metadata": {},
   "outputs": [
    {
     "name": "stdout",
     "output_type": "stream",
     "text": [
      "house bike car room\n",
      "['bike', 'car', 'house', 'room']\n"
     ]
    }
   ],
   "source": [
    "sentence = input()\n",
    "words = sentence.split(\" \")\n",
    "words.sort()\n",
    "print (words)"
   ]
  },
  {
   "cell_type": "code",
   "execution_count": 15,
   "id": "a1d1de75",
   "metadata": {},
   "outputs": [
    {
     "name": "stdout",
     "output_type": "stream",
     "text": [
      "5\n",
      "    *\n",
      "   ***\n",
      "  *****\n",
      " *******\n",
      "*********\n",
      "    |\n"
     ]
    }
   ],
   "source": [
    "height = int(input())\n",
    "\n",
    "for i in range(1,height+1):\n",
    "    spaces = ' '*(height-i)\n",
    "    stars = '*'*(i+i-1)\n",
    "    layer = spaces + stars\n",
    "    print(layer)\n",
    "print(' '*(height-1) + '|')"
   ]
  },
  {
   "cell_type": "code",
   "execution_count": 16,
   "id": "33728c2b",
   "metadata": {},
   "outputs": [
    {
     "name": "stdout",
     "output_type": "stream",
     "text": [
      "5\n",
      "1\n",
      "1\n",
      "1\n",
      "2\n",
      "2\n"
     ]
    }
   ],
   "source": [
    "p0 = 1\n",
    "p1 = 1\n",
    "p2 = 1\n",
    "\n",
    "n = int(input())\n",
    "for i in range(n):\n",
    "    print(p0)\n",
    "    m = p0 + p1\n",
    "    p0 = p1\n",
    "    p1 = p2\n",
    "    p2 = m"
   ]
  }
 ],
 "metadata": {
  "kernelspec": {
   "display_name": "Python 3 (ipykernel)",
   "language": "python",
   "name": "python3"
  },
  "language_info": {
   "codemirror_mode": {
    "name": "ipython",
    "version": 3
   },
   "file_extension": ".py",
   "mimetype": "text/x-python",
   "name": "python",
   "nbconvert_exporter": "python",
   "pygments_lexer": "ipython3",
   "version": "3.11.5"
  }
 },
 "nbformat": 4,
 "nbformat_minor": 5
}
